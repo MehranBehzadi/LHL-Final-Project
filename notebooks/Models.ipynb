{
 "cells": [
  {
   "cell_type": "code",
   "execution_count": 1,
   "metadata": {},
   "outputs": [],
   "source": [
    "import os\n",
    "import pandas as pd\n",
    "\n",
    "file_path = os.path.join('data', 'processed', 'preprocessed_data.csv')\n",
    "data = pd.read_csv(file_path)"
   ]
  },
  {
   "cell_type": "code",
   "execution_count": 2,
   "metadata": {},
   "outputs": [
    {
     "name": "stdout",
     "output_type": "stream",
     "text": [
      "Files have been saved to: c:\\Users\\mehra\\Clones\\LHL-Final-Project\\notebooks\\data\\processed\n"
     ]
    }
   ],
   "source": [
    "from sklearn.model_selection import train_test_split\n",
    "\n",
    "# Define Features (X) and Target (y)\n",
    "X = data.drop(columns=['Market value']) \n",
    "y = data['Market value']\n",
    "\n",
    "# Split the data\n",
    "X_train, X_test, y_train, y_test = train_test_split(X, y, test_size=0.2, random_state=42)\n",
    "\n",
    "feature_columns = X.columns \n",
    "\n",
    "X_train_df = pd.DataFrame(X_train, columns=feature_columns)\n",
    "X_test_df = pd.DataFrame(X_test, columns=feature_columns)\n",
    "y_train_series = pd.Series(y_train, name='target')  \n",
    "y_test_series = pd.Series(y_test, name='target')\n",
    "\n",
    "\n",
    "import os\n",
    "\n",
    "# Define the directory path\n",
    "processed_dir = os.path.join(os.getcwd(), 'data', 'processed')\n",
    "\n",
    "# Create the directory if it doesn't exist\n",
    "os.makedirs(processed_dir, exist_ok=True)\n",
    "\n",
    "# Save the datasets as CSV files in the processed directory\n",
    "X_train_df.to_csv(os.path.join(processed_dir, 'X_train.csv'), index=False)\n",
    "X_test_df.to_csv(os.path.join(processed_dir, 'X_test.csv'), index=False)\n",
    "y_train_series.to_csv(os.path.join(processed_dir, 'y_train.csv'), index=False)\n",
    "y_test_series.to_csv(os.path.join(processed_dir, 'y_test.csv'), index=False)\n",
    "\n",
    "print(f\"Files have been saved to: {processed_dir}\")"
   ]
  },
  {
   "cell_type": "code",
   "execution_count": 3,
   "metadata": {},
   "outputs": [
    {
     "name": "stdout",
     "output_type": "stream",
     "text": [
      "Matches_Played                 int64\n",
      "Starts                         int64\n",
      "Minutes_Played               float64\n",
      "90s_Played                   float64\n",
      "Goals                        float64\n",
      "                              ...   \n",
      "Nat._['France', 'Congo']        bool\n",
      "Nat._['Morocco', 'Spain']       bool\n",
      "Age_Group_18-23                 bool\n",
      "Age_Group_24-28                 bool\n",
      "Age_Group_29-33                 bool\n",
      "Length: 65, dtype: object\n",
      "Missing values in X_train: 0\n"
     ]
    }
   ],
   "source": [
    "X_train.fillna(0, inplace=True)  # Replace NaN with 0\n",
    "X_test.fillna(0, inplace=True)  # Same for test data\n",
    "\n",
    "# Drop irrelevant columns\n",
    "X_train.drop(columns=['Player'], inplace=True)\n",
    "X_test.drop(columns=['Player'], inplace=True)\n",
    "\n",
    "# Process Date of birth/Age\n",
    "X_train['Age'] = X_train['Date of birth/Age'].str.extract(r'\\((\\d+)\\)').astype(float)\n",
    "X_test['Age'] = X_test['Date of birth/Age'].str.extract(r'\\((\\d+)\\)').astype(float)\n",
    "X_train.drop(columns=['Date of birth/Age'], inplace=True)\n",
    "X_test.drop(columns=['Date of birth/Age'], inplace=True)\n",
    "\n",
    "# Process Height\n",
    "X_train['Height'] = X_train['Height'].str.replace(',', '.', regex=False).str.replace('m', '').astype(float)\n",
    "X_test['Height'] = X_test['Height'].str.replace(',', '.', regex=False).str.replace('m', '').astype(float)\n",
    "\n",
    "# Encode Position column\n",
    "X_train = pd.get_dummies(X_train, columns=['Position'], drop_first=True)\n",
    "X_test = pd.get_dummies(X_test, columns=['Position'], drop_first=True)\n",
    "\n",
    "# One-hot encode the object columns\n",
    "categorical_columns = ['Foot', 'Contract', 'Nat.', 'Age_Group']\n",
    "X_train = pd.get_dummies(X_train, columns=categorical_columns, drop_first=True)\n",
    "X_test = pd.get_dummies(X_test, columns=categorical_columns, drop_first=True)\n",
    "\n",
    "# Align test set with train set\n",
    "X_test = X_test.reindex(columns=X_train.columns, fill_value=0)\n",
    "\n",
    "# Verify the processed features\n",
    "print(X_train.dtypes)\n",
    "print(\"Missing values in X_train:\", X_train.isnull().sum().sum())\n"
   ]
  },
  {
   "cell_type": "code",
   "execution_count": 4,
   "metadata": {},
   "outputs": [
    {
     "name": "stdout",
     "output_type": "stream",
     "text": [
      "Feature data types (X_train):\n",
      "Matches_Played                 int64\n",
      "Starts                         int64\n",
      "Minutes_Played               float64\n",
      "90s_Played                   float64\n",
      "Goals                        float64\n",
      "                              ...   \n",
      "Nat._['France', 'Congo']        bool\n",
      "Nat._['Morocco', 'Spain']       bool\n",
      "Age_Group_18-23                 bool\n",
      "Age_Group_24-28                 bool\n",
      "Age_Group_29-33                 bool\n",
      "Length: 65, dtype: object\n",
      "Missing values in processed X_train: 0\n"
     ]
    }
   ],
   "source": [
    "# Verify data types\n",
    "print(\"Feature data types (X_train):\")\n",
    "print(X_train.dtypes)\n",
    "\n",
    "# Check for missing values again\n",
    "print(\"Missing values in processed X_train:\", X_train.isnull().sum().sum())\n"
   ]
  },
  {
   "cell_type": "code",
   "execution_count": 5,
   "metadata": {},
   "outputs": [
    {
     "name": "stdout",
     "output_type": "stream",
     "text": [
      "Linear Regression:\n",
      "  MAE: 37.64\n",
      "  MSE: 2236.47\n",
      "  R² Score: -0.07\n",
      "\n",
      "SVM:\n",
      "  MAE: 41.48\n",
      "  MSE: 2689.33\n",
      "  R² Score: -0.29\n",
      "\n",
      "Random Forest:\n",
      "  MAE: 14.37\n",
      "  MSE: 343.53\n",
      "  R² Score: 0.83\n",
      "\n",
      "XGBoost:\n",
      "  MAE: 13.78\n",
      "  MSE: 336.78\n",
      "  R² Score: 0.84\n",
      "\n"
     ]
    }
   ],
   "source": [
    "from sklearn.linear_model import LinearRegression\n",
    "from sklearn.svm import SVR\n",
    "from sklearn.ensemble import RandomForestRegressor\n",
    "from xgboost import XGBRegressor\n",
    "from sklearn.metrics import mean_absolute_error, mean_squared_error, r2_score\n",
    "from sklearn.preprocessing import StandardScaler\n",
    "\n",
    "# Clean column names for compatibility\n",
    "X_train.columns = X_train.columns.astype(str).str.replace(r'[\\[\\]<>,]', '', regex=True)\n",
    "X_test.columns = X_test.columns.astype(str).str.replace(r'[\\[\\]<>,]', '', regex=True)\n",
    "\n",
    "models = {\n",
    "    'Linear Regression': LinearRegression(),\n",
    "    'SVM': SVR(kernel='rbf'),\n",
    "    'Random Forest': RandomForestRegressor(n_estimators=100, random_state=42),\n",
    "    'XGBoost': XGBRegressor(n_estimators=100, random_state=42)\n",
    "}\n",
    "\n",
    "# Dictionary to store model performance\n",
    "model_performance = []\n",
    "\n",
    "# Train and evaluate each model\n",
    "for name, model in models.items():\n",
    "    if name == 'SVM':  # SVM requires scaled data\n",
    "        scaler = StandardScaler()\n",
    "        X_train_scaled = scaler.fit_transform(X_train)\n",
    "        X_test_scaled = scaler.transform(X_test)\n",
    "\n",
    "        model.fit(X_train_scaled, y_train)\n",
    "        y_pred = model.predict(X_test_scaled)\n",
    "    else:  # Other models use unscaled data\n",
    "        model.fit(X_train, y_train)\n",
    "        y_pred = model.predict(X_test)\n",
    "\n",
    "    # Evaluate the model\n",
    "    mae = mean_absolute_error(y_test, y_pred)\n",
    "    mse = mean_squared_error(y_test, y_pred)\n",
    "    r2 = r2_score(y_test, y_pred)\n",
    "\n",
    "    model_performance.append((name, mae, mse, r2))\n",
    "\n",
    "    print(f\"{name}:\")\n",
    "    print(f\"  MAE: {mae:.2f}\")\n",
    "    print(f\"  MSE: {mse:.2f}\")\n",
    "    print(f\"  R² Score: {r2:.2f}\")\n",
    "    print()\n"
   ]
  },
  {
   "cell_type": "code",
   "execution_count": 6,
   "metadata": {},
   "outputs": [
    {
     "name": "stdout",
     "output_type": "stream",
     "text": [
      "               Model        MAE          MSE        R2\n",
      "3            XGBoost  13.777180   336.776154  0.838166\n",
      "2      Random Forest  14.365000   343.526637  0.834922\n",
      "0  Linear Regression  37.638514  2236.467792 -0.074708\n",
      "1                SVM  41.480349  2689.331012 -0.292326\n"
     ]
    }
   ],
   "source": [
    "import pandas as pd\n",
    "\n",
    "# Create a DataFrame for performance comparison\n",
    "performance_df = pd.DataFrame(model_performance, columns=['Model', 'MAE', 'MSE', 'R2'])\n",
    "performance_df.sort_values(by='MAE', ascending=True, inplace=True)\n",
    "\n",
    "print(performance_df)\n"
   ]
  }
 ],
 "metadata": {
  "kernelspec": {
   "display_name": "the_one",
   "language": "python",
   "name": "the_one"
  },
  "language_info": {
   "codemirror_mode": {
    "name": "ipython",
    "version": 3
   },
   "file_extension": ".py",
   "mimetype": "text/x-python",
   "name": "python",
   "nbconvert_exporter": "python",
   "pygments_lexer": "ipython3",
   "version": "3.9.15"
  }
 },
 "nbformat": 4,
 "nbformat_minor": 2
}
